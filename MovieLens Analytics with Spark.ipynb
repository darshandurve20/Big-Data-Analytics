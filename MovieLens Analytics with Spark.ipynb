{
 "cells": [
  {
   "cell_type": "code",
   "execution_count": 21,
   "metadata": {},
   "outputs": [],
   "source": [
    "import findspark\n",
    "\n",
    "findspark.init('/home/darshan/spark-3.0.0-preview2-bin-hadoop2.7')\n",
    "\n",
    "from pyspark.sql import SparkSession\n",
    "from pyspark.sql import Row\n",
    "import pandas as pd\n",
    "from pyspark.sql.functions import format_number"
   ]
  },
  {
   "cell_type": "code",
   "execution_count": 22,
   "metadata": {},
   "outputs": [],
   "source": [
    "spark = SparkSession.builder.appName(\"ml-100k\").getOrCreate()"
   ]
  },
  {
   "cell_type": "code",
   "execution_count": 23,
   "metadata": {},
   "outputs": [],
   "source": [
    "lines = spark.sparkContext.textFile(\"u.data\")"
   ]
  },
  {
   "cell_type": "code",
   "execution_count": 24,
   "metadata": {},
   "outputs": [],
   "source": [
    "def parseInput(line):\n",
    "    fields = line.split()\n",
    "    return Row(userID = int(fields[0]), movieID = int(fields[1]), rating = float(fields[2]), timestamp = (fields[3]))"
   ]
  },
  {
   "cell_type": "code",
   "execution_count": 25,
   "metadata": {},
   "outputs": [],
   "source": [
    "movies = lines.map(parseInput)\n",
    "\n",
    "movieDataset = spark.createDataFrame(movies)"
   ]
  },
  {
   "cell_type": "code",
   "execution_count": 26,
   "metadata": {},
   "outputs": [
    {
     "name": "stdout",
     "output_type": "stream",
     "text": [
      "root\n",
      " |-- movieID: long (nullable = true)\n",
      " |-- rating: double (nullable = true)\n",
      " |-- timestamp: string (nullable = true)\n",
      " |-- userID: long (nullable = true)\n",
      "\n"
     ]
    }
   ],
   "source": [
    "movieDataset.printSchema()"
   ]
  },
  {
   "cell_type": "code",
   "execution_count": 27,
   "metadata": {},
   "outputs": [
    {
     "name": "stdout",
     "output_type": "stream",
     "text": [
      "+-------+------+---------+------+\n",
      "|movieID|rating|timestamp|userID|\n",
      "+-------+------+---------+------+\n",
      "|     50|   5.0|881250949|     0|\n",
      "|    172|   5.0|881250949|     0|\n",
      "|    133|   1.0|881250949|     0|\n",
      "|    242|   3.0|881250949|   196|\n",
      "|    302|   3.0|891717742|   186|\n",
      "|    377|   1.0|878887116|    22|\n",
      "|     51|   2.0|880606923|   244|\n",
      "|    346|   1.0|886397596|   166|\n",
      "|    474|   4.0|884182806|   298|\n",
      "|    265|   2.0|881171488|   115|\n",
      "|    465|   5.0|891628467|   253|\n",
      "|    451|   3.0|886324817|   305|\n",
      "|     86|   3.0|883603013|     6|\n",
      "|    257|   2.0|879372434|    62|\n",
      "|   1014|   5.0|879781125|   286|\n",
      "|    222|   5.0|876042340|   200|\n",
      "|     40|   3.0|891035994|   210|\n",
      "|     29|   3.0|888104457|   224|\n",
      "|    785|   3.0|879485318|   303|\n",
      "|    387|   5.0|879270459|   122|\n",
      "+-------+------+---------+------+\n",
      "only showing top 20 rows\n",
      "\n"
     ]
    }
   ],
   "source": [
    "movieDataset.show()"
   ]
  },
  {
   "cell_type": "code",
   "execution_count": 28,
   "metadata": {},
   "outputs": [],
   "source": [
    "def loadMovieNames():\n",
    "    movieID = []\n",
    "    movieName = []\n",
    "    releaseDate = []\n",
    "    with open(\"u.item\", encoding = \"ISO-8859-1\") as f:\n",
    "        for line in f:\n",
    "            fields = line.split('|')\n",
    "            movieID.append(int(fields[0]))\n",
    "            movieName.append(fields[1])\n",
    "            releaseDate.append(fields[2])\n",
    "    return movieID, movieName, releaseDate"
   ]
  },
  {
   "cell_type": "code",
   "execution_count": 29,
   "metadata": {},
   "outputs": [],
   "source": [
    "movieID, movieName, releaseDate = loadMovieNames()\n",
    "\n",
    "df = pd.DataFrame({'movieID':movieID, 'movieName':movieName, 'releaseDate':releaseDate})\n",
    "movieNames = spark.createDataFrame(df)"
   ]
  },
  {
   "cell_type": "code",
   "execution_count": 30,
   "metadata": {},
   "outputs": [
    {
     "name": "stdout",
     "output_type": "stream",
     "text": [
      "root\n",
      " |-- movieID: long (nullable = true)\n",
      " |-- movieName: string (nullable = true)\n",
      " |-- releaseDate: string (nullable = true)\n",
      "\n"
     ]
    }
   ],
   "source": [
    "movieNames.printSchema()"
   ]
  },
  {
   "cell_type": "code",
   "execution_count": 31,
   "metadata": {},
   "outputs": [
    {
     "name": "stdout",
     "output_type": "stream",
     "text": [
      "+-------+--------------------+-----------+\n",
      "|movieID|           movieName|releaseDate|\n",
      "+-------+--------------------+-----------+\n",
      "|      1|    Toy Story (1995)|01-Jan-1995|\n",
      "|      2|    GoldenEye (1995)|01-Jan-1995|\n",
      "|      3|   Four Rooms (1995)|01-Jan-1995|\n",
      "|      4|   Get Shorty (1995)|01-Jan-1995|\n",
      "|      5|      Copycat (1995)|01-Jan-1995|\n",
      "|      6|Shanghai Triad (Y...|01-Jan-1995|\n",
      "|      7|Twelve Monkeys (1...|01-Jan-1995|\n",
      "|      8|         Babe (1995)|01-Jan-1995|\n",
      "|      9|Dead Man Walking ...|01-Jan-1995|\n",
      "|     10|  Richard III (1995)|22-Jan-1996|\n",
      "|     11|Seven (Se7en) (1995)|01-Jan-1995|\n",
      "|     12|Usual Suspects, T...|14-Aug-1995|\n",
      "|     13|Mighty Aphrodite ...|30-Oct-1995|\n",
      "|     14|  Postino, Il (1994)|01-Jan-1994|\n",
      "|     15|Mr. Holland's Opu...|29-Jan-1996|\n",
      "|     16|French Twist (Gaz...|01-Jan-1995|\n",
      "|     17|From Dusk Till Da...|05-Feb-1996|\n",
      "|     18|White Balloon, Th...|01-Jan-1995|\n",
      "|     19|Antonia's Line (1...|01-Jan-1995|\n",
      "|     20|Angels and Insect...|01-Jan-1995|\n",
      "+-------+--------------------+-----------+\n",
      "only showing top 20 rows\n",
      "\n"
     ]
    }
   ],
   "source": [
    "movieNames.show()"
   ]
  },
  {
   "cell_type": "code",
   "execution_count": 32,
   "metadata": {},
   "outputs": [
    {
     "name": "stdout",
     "output_type": "stream",
     "text": [
      "+--------------------+-----+\n",
      "|           movieName|count|\n",
      "+--------------------+-----+\n",
      "|    Star Wars (1977)|  584|\n",
      "|      Contact (1997)|  509|\n",
      "|        Fargo (1996)|  508|\n",
      "|Return of the Jed...|  507|\n",
      "|    Liar Liar (1997)|  485|\n",
      "|English Patient, ...|  481|\n",
      "|       Scream (1996)|  478|\n",
      "|    Toy Story (1995)|  452|\n",
      "|Air Force One (1997)|  431|\n",
      "|Independence Day ...|  429|\n",
      "+--------------------+-----+\n",
      "only showing top 10 rows\n",
      "\n"
     ]
    }
   ],
   "source": [
    "#top 10 most rated movies\n",
    "movie_count = movieDataset.groupBy('movieID').count()\n",
    "\n",
    "most_rated_movies = movie_count.join(movieNames, movie_count.movieID == movieNames.movieID). \\\n",
    "                    select(['movieName','count']).orderBy(movie_count['count'].desc())\n",
    "most_rated_movies.show(10)"
   ]
  },
  {
   "cell_type": "code",
   "execution_count": 33,
   "metadata": {},
   "outputs": [
    {
     "name": "stdout",
     "output_type": "stream",
     "text": [
      "+-------+-----------+\n",
      "|movieID|avg(rating)|\n",
      "+-------+-----------+\n",
      "|    474|        4.3|\n",
      "|     29|        2.7|\n",
      "|     26|        3.5|\n",
      "|    964|        3.3|\n",
      "|   1677|        3.0|\n",
      "|     65|        3.5|\n",
      "|    191|        4.2|\n",
      "|   1224|        2.7|\n",
      "|    558|        3.7|\n",
      "|   1010|        3.2|\n",
      "|    418|        3.6|\n",
      "|   1277|        3.4|\n",
      "|   1258|        2.5|\n",
      "|    541|        2.9|\n",
      "|   1360|        1.5|\n",
      "|    222|        3.7|\n",
      "|    938|        2.9|\n",
      "|    293|        3.8|\n",
      "|    270|        3.6|\n",
      "|   1127|        2.9|\n",
      "+-------+-----------+\n",
      "only showing top 20 rows\n",
      "\n"
     ]
    }
   ],
   "source": [
    "#Average Ratings for each movie\n",
    "averageRatings = movieDataset.groupBy(\"movieID\").avg(\"rating\")\n",
    "\n",
    "\n",
    "averageRatings = averageRatings.withColumn(\"avg(rating)\",format_number('avg(rating)',1))\n",
    "averageRatings.show()"
   ]
  },
  {
   "cell_type": "code",
   "execution_count": 34,
   "metadata": {},
   "outputs": [
    {
     "name": "stdout",
     "output_type": "stream",
     "text": [
      "+------+-----+\n",
      "|rating|count|\n",
      "+------+-----+\n",
      "|   1.0| 6111|\n",
      "|   4.0|34174|\n",
      "|   3.0|27145|\n",
      "|   2.0|11370|\n",
      "|   5.0|21203|\n",
      "+------+-----+\n",
      "\n"
     ]
    }
   ],
   "source": [
    "#Number of movies for each rating\n",
    "countsPerMovie = movieDataset.groupBy(\"rating\").count()\n",
    "countsPerMovie.show()"
   ]
  },
  {
   "cell_type": "code",
   "execution_count": 35,
   "metadata": {},
   "outputs": [
    {
     "name": "stdout",
     "output_type": "stream",
     "text": [
      "+-------+-----+-----------+\n",
      "|movieID|count|avg(rating)|\n",
      "+-------+-----+-----------+\n",
      "|   1201|    1|        5.0|\n",
      "|   1500|    2|        5.0|\n",
      "|   1653|    1|        5.0|\n",
      "|   1599|    1|        5.0|\n",
      "|    814|    1|        5.0|\n",
      "|   1189|    3|        5.0|\n",
      "|   1293|    3|        5.0|\n",
      "|   1122|    1|        5.0|\n",
      "|   1536|    1|        5.0|\n",
      "|   1467|    2|        5.0|\n",
      "|   1449|    8|        4.6|\n",
      "|   1398|    2|        4.5|\n",
      "|   1642|    2|        4.5|\n",
      "|    483|  243|        4.5|\n",
      "|    318|  298|        4.5|\n",
      "|    408|  112|        4.5|\n",
      "|   1594|    2|        4.5|\n",
      "|    169|  118|        4.5|\n",
      "|    119|    4|        4.5|\n",
      "|    114|   67|        4.4|\n",
      "+-------+-----+-----------+\n",
      "only showing top 20 rows\n",
      "\n"
     ]
    }
   ],
   "source": [
    "#Average & counts for each movie\n",
    "averagesAndCounts = movie_count.join(averageRatings, \"movieID\")\n",
    "\n",
    "averagesAndCounts.orderBy(averagesAndCounts['avg(rating)'].desc()).show()"
   ]
  },
  {
   "cell_type": "code",
   "execution_count": 36,
   "metadata": {},
   "outputs": [
    {
     "name": "stdout",
     "output_type": "stream",
     "text": [
      "+--------------------+-----------+\n",
      "|           movieName|avg(rating)|\n",
      "+--------------------+-----------+\n",
      "|Close Shave, A (1...|        4.5|\n",
      "|   Casablanca (1942)|        4.5|\n",
      "|Schindler's List ...|        4.5|\n",
      "|Wrong Trousers, T...|        4.5|\n",
      "|Shawshank Redempt...|        4.4|\n",
      "|  Rear Window (1954)|        4.4|\n",
      "|Wallace & Gromit:...|        4.4|\n",
      "|Usual Suspects, T...|        4.4|\n",
      "|    Star Wars (1977)|        4.4|\n",
      "|Raiders of the Lo...|        4.3|\n",
      "|To Kill a Mocking...|        4.3|\n",
      "|      Vertigo (1958)|        4.3|\n",
      "|Third Man, The (1...|        4.3|\n",
      "| Citizen Kane (1941)|        4.3|\n",
      "| 12 Angry Men (1957)|        4.3|\n",
      "|Dr. Strangelove o...|        4.3|\n",
      "|Godfather, The (1...|        4.3|\n",
      "|North by Northwes...|        4.3|\n",
      "|Manchurian Candid...|        4.3|\n",
      "|Some Folks Call I...|        4.3|\n",
      "+--------------------+-----------+\n",
      "only showing top 20 rows\n",
      "\n"
     ]
    }
   ],
   "source": [
    "#highest rated movies(out of movies which are rated by atleast 10 people)\n",
    "averagesAndCounts.filter(\"count > 10\").join(movieNames, 'movieID'). \\\n",
    "select(['movieName','avg(rating)']).orderBy(averagesAndCounts['avg(rating)'].desc()).show()"
   ]
  },
  {
   "cell_type": "code",
   "execution_count": 37,
   "metadata": {},
   "outputs": [
    {
     "name": "stdout",
     "output_type": "stream",
     "text": [
      "+--------------------+-----------+\n",
      "|           movieName|avg(rating)|\n",
      "+--------------------+-----------+\n",
      "|Children of the C...|        1.3|\n",
      "|   Body Parts (1991)|        1.6|\n",
      "|Amityville II: Th...|        1.6|\n",
      "|Free Willy 3: The...|        1.7|\n",
      "|    Robocop 3 (1993)|        1.7|\n",
      "|Lawnmower Man 2: ...|        1.7|\n",
      "|Leave It to Beave...|        1.8|\n",
      "|Vampire in Brookl...|        1.8|\n",
      "|Ready to Wear (Pr...|        1.8|\n",
      "| Gone Fishin' (1997)|        1.8|\n",
      "|         Solo (1996)|        1.8|\n",
      "|    Barb Wire (1996)|        1.9|\n",
      "|Crow: City of Ang...|        1.9|\n",
      "|    Big Bully (1996)|        1.9|\n",
      "|     Bio-Dome (1996)|        1.9|\n",
      "|     Jaws 3-D (1983)|        1.9|\n",
      "| Home Alone 3 (1997)|        1.9|\n",
      "|All Dogs Go to He...|        1.9|\n",
      "|    Mr. Magoo (1997)|        1.9|\n",
      "|    Jury Duty (1995)|        2.0|\n",
      "+--------------------+-----------+\n",
      "only showing top 20 rows\n",
      "\n"
     ]
    }
   ],
   "source": [
    "#Lowest rated movies(out of movies which are rated by atleast 10 people)\n",
    "\n",
    "averagesAndCounts.filter(\"count > 10\").join(movieNames, 'movieID'). \\\n",
    "select(['movieName','avg(rating)']).orderBy('avg(rating)').show()"
   ]
  },
  {
   "cell_type": "code",
   "execution_count": 38,
   "metadata": {},
   "outputs": [],
   "source": [
    "#Getting the Year from the Release Date\n",
    "movieNamesYear = movieNames.withColumn('releaseYear',  movieNames.releaseDate.substr(8, 4))"
   ]
  },
  {
   "cell_type": "code",
   "execution_count": 39,
   "metadata": {},
   "outputs": [
    {
     "name": "stdout",
     "output_type": "stream",
     "text": [
      "+-----------+-----+\n",
      "|releaseYear|count|\n",
      "+-----------+-----+\n",
      "|       1996|  355|\n",
      "|       1997|  286|\n",
      "|       1995|  219|\n",
      "|       1994|  214|\n",
      "|       1993|  126|\n",
      "|       1998|   65|\n",
      "|       1992|   37|\n",
      "|       1990|   24|\n",
      "|       1991|   22|\n",
      "|       1986|   15|\n",
      "|       1989|   15|\n",
      "|       1987|   13|\n",
      "|       1982|   13|\n",
      "|       1981|   12|\n",
      "|       1988|   11|\n",
      "|       1979|    9|\n",
      "|       1958|    9|\n",
      "|       1980|    8|\n",
      "|       1974|    8|\n",
      "|       1957|    8|\n",
      "+-----------+-----+\n",
      "only showing top 20 rows\n",
      "\n"
     ]
    }
   ],
   "source": [
    "#Most number of movie releases in a year\n",
    "YearCount = movieNamesYear.groupBy('releaseYear').count()\n",
    "YearCount.orderBy(YearCount['count'].desc()).show()"
   ]
  },
  {
   "cell_type": "code",
   "execution_count": null,
   "metadata": {},
   "outputs": [],
   "source": []
  }
 ],
 "metadata": {
  "kernelspec": {
   "display_name": "Python 3",
   "language": "python",
   "name": "python3"
  },
  "language_info": {
   "codemirror_mode": {
    "name": "ipython",
    "version": 3
   },
   "file_extension": ".py",
   "mimetype": "text/x-python",
   "name": "python",
   "nbconvert_exporter": "python",
   "pygments_lexer": "ipython3",
   "version": "3.8.2"
  }
 },
 "nbformat": 4,
 "nbformat_minor": 4
}
